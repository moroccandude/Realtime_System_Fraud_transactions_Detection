{
 "cells": [
  {
   "cell_type": "code",
   "execution_count": 37,
   "metadata": {
    "id": "8Xzun42SGs4b"
   },
   "outputs": [],
   "source": [
    "import random\n",
    "from datetime import datetime, timedelta\n",
    "import json\n",
    "\n",
    "def random_date(start, end):\n",
    "    return start + timedelta(\n",
    "        seconds=random.randint(0, int((end - start).total_seconds())))\n",
    "\n",
    "def generate_high_frequency_transactions(customer_id, start_date, num_transactions):\n",
    "    transactions = []\n",
    "    for _ in range(num_transactions):\n",
    "        transactions.append({\n",
    "            \"transaction_id\": f\"T{random.randint(10000, 99999)}\",\n",
    "            \"date_time\": random_date(start_date, start_date + timedelta(days=1)).isoformat(),\n",
    "            \"amount\": random.uniform(10, 1000),\n",
    "            \"currency\": random.choice([\"USD\", \"EUR\", \"GBP\"]),\n",
    "            \"merchant_details\": f\"Merchant{random.randint(1, 20)}\",\n",
    "            \"customer_id\": customer_id,\n",
    "            \"transaction_type\": random.choice([\"purchase\", \"withdrawal\"]),\n",
    "            \"location\": f\"City{random.randint(11, 20)}\"  # Different from customer's city\n",
    "        })\n",
    "    return transactions\n",
    "\n",
    "def generate_data(num_transactions, num_customers):\n",
    "    customers = []\n",
    "    transactions = []\n",
    "    external_data = {\n",
    "        \"blacklist_info\": [f\"Merchant{random.randint(21, 30)}\" for _ in range(10)],\n",
    "        \"credit_scores\": {},\n",
    "        \"fraud_reports\": {}\n",
    "    }\n",
    "\n",
    "    for i in range(num_customers):\n",
    "        customer_id = f\"C{i:03}\"\n",
    "        customer_city = f\"City{random.randint(1, 10)}\"\n",
    "        customers.append({\n",
    "            \"customer_id\": customer_id,\n",
    "            \"account_history\": [],\n",
    "            \"demographics\": {\"age\": random.randint(18, 70), \"location\": customer_city},\n",
    "            \"behavioral_patterns\": {\"avg_transaction_value\": random.uniform(50, 500)}\n",
    "        })\n",
    "        external_data[\"credit_scores\"][customer_id] = random.randint(300, 850)\n",
    "        external_data[\"fraud_reports\"][customer_id] = random.randint(0, 5)\n",
    "\n",
    "    for i in range(num_transactions):\n",
    "        customer_id = f\"C{random.randint(0, num_customers-1):03}\"\n",
    "        transaction = {\n",
    "            \"transaction_id\": f\"T{i:05}\",\n",
    "            \"date_time\": random_date(datetime(2020, 1, 1), datetime(2023, 1, 1)).isoformat(),\n",
    "            \"amount\": random.uniform(10, 1000) * (10 if random.random() < 0.4 else 1),  # 5% chance of high amount\n",
    "            \"currency\": random.choice([\"USD\", \"EUR\", \"GBP\"]),\n",
    "            \"merchant_details\": f\"Merchant{random.randint(1, 20)}\",\n",
    "            \"customer_id\": customer_id,\n",
    "            \"transaction_type\": random.choice([\"purchase\", \"withdrawal\"]),\n",
    "            \"location\": f\"City{random.randint(1, 10)}\"\n",
    "        }\n",
    "        transactions.append(transaction)\n",
    "        for customer in customers:\n",
    "            if customer['customer_id'] == customer_id:\n",
    "                customer['account_history'].append(transaction['transaction_id'])\n",
    "                break\n",
    "\n",
    "    for customer in random.sample(customers, num_customers // 40):  # 40% of customers\n",
    "        transactions.extend(generate_high_frequency_transactions(customer['customer_id'], datetime(2022, 1, 1), 10))\n",
    "\n",
    "    return transactions, customers, external_data\n",
    "\n",
    "transactions, customers, external_data = generate_data(1000, 100)\n",
    "\n",
    "customers= json.dumps(customers)\n",
    "with open(\"../data/customers.json\",mode=\"w\") as file:\n",
    "    for customer in customers:\n",
    "         file.write(customer)\n",
    "\n",
    "transactions= json.dumps(transactions)\n",
    "with open(\"../data/transactions.json\",mode=\"w\") as file:\n",
    "    for transaction in transactions:\n",
    "         file.write(transaction)\n",
    "\n",
    "with open(\"../data/external_data.json\",mode=\"w\") as file:\n",
    "# for extern_data in external_data:\n",
    "        external_data_dic=json.dump(external_data,file)\n",
    "\n",
    "# print()       \n"
   ]
  },
  {
   "cell_type": "code",
   "execution_count": 16,
   "metadata": {},
   "outputs": [
    {
     "name": "stdout",
     "output_type": "stream",
     "text": [
      "2.32.3\n"
     ]
    },
    {
     "ename": "KeyError",
     "evalue": "'\"customer_id\"'",
     "output_type": "error",
     "traceback": [
      "\u001b[31m---------------------------------------------------------------------------\u001b[39m",
      "\u001b[31mKeyError\u001b[39m                                  Traceback (most recent call last)",
      "\u001b[36mCell\u001b[39m\u001b[36m \u001b[39m\u001b[32mIn[16]\u001b[39m\u001b[32m, line 35\u001b[39m\n\u001b[32m     33\u001b[39m     df.show()\n\u001b[32m     34\u001b[39m \u001b[38;5;28;01mif\u001b[39;00m \u001b[34m__name__\u001b[39m==\u001b[33m\"\u001b[39m\u001b[33m__main__\u001b[39m\u001b[33m\"\u001b[39m:\n\u001b[32m---> \u001b[39m\u001b[32m35\u001b[39m  \u001b[43mmain\u001b[49m\u001b[43m(\u001b[49m\u001b[43m)\u001b[49m        \n",
      "\u001b[36mCell\u001b[39m\u001b[36m \u001b[39m\u001b[32mIn[16]\u001b[39m\u001b[32m, line 23\u001b[39m, in \u001b[36mmain\u001b[39m\u001b[34m()\u001b[39m\n\u001b[32m     21\u001b[39m spark=initial_session()\n\u001b[32m     22\u001b[39m data=get_customers_data()\n\u001b[32m---> \u001b[39m\u001b[32m23\u001b[39m data=\u001b[43mjson\u001b[49m\u001b[43m.\u001b[49m\u001b[43mdumps\u001b[49m\u001b[43m(\u001b[49m\u001b[43mdata\u001b[49m\u001b[43m)\u001b[49m\u001b[43m.\u001b[49m\u001b[43mformat\u001b[49m\u001b[43m(\u001b[49m\u001b[33;43m\"\u001b[39;49m\u001b[33;43mutf-8\u001b[39;49m\u001b[33;43m\"\u001b[39;49m\u001b[43m)\u001b[49m\n\u001b[32m     24\u001b[39m schema=StructType([\n\u001b[32m     25\u001b[39m     StructField(\u001b[33m\"\u001b[39m\u001b[33mcustomer_id\u001b[39m\u001b[33m\"\u001b[39m,StringType(),\u001b[38;5;28;01mTrue\u001b[39;00m),\n\u001b[32m     26\u001b[39m     StructField(\u001b[33m\"\u001b[39m\u001b[33maccount_history\u001b[39m\u001b[33m\"\u001b[39m,ArrayType(StringType()),\u001b[38;5;28;01mTrue\u001b[39;00m),\n\u001b[32m     27\u001b[39m     StructField(\u001b[33m\"\u001b[39m\u001b[33mdemographics\u001b[39m\u001b[33m\"\u001b[39m,MapType(StringType(),StringType()),\u001b[38;5;28;01mTrue\u001b[39;00m),\n\u001b[32m     28\u001b[39m     StructField(\u001b[33m\"\u001b[39m\u001b[33mbehavioral_patterns\u001b[39m\u001b[33m\"\u001b[39m,MapType(StringType(),FloatType()),\u001b[38;5;28;01mTrue\u001b[39;00m)\n\u001b[32m     29\u001b[39m ])\n\u001b[32m     31\u001b[39m df=spark.read.schema(schema).json(data).option(\u001b[33m\"\u001b[39m\u001b[33mmultiline\u001b[39m\u001b[33m\"\u001b[39m,\u001b[33m\"\u001b[39m\u001b[33mtrue\u001b[39m\u001b[33m\"\u001b[39m)\n",
      "\u001b[31mKeyError\u001b[39m: '\"customer_id\"'"
     ]
    }
   ],
   "source": [
    "import requests as re\n",
    "import pandas as pd\n",
    "import json\n",
    "import logging\n",
    "from pyspark.sql import SparkSession\n",
    "from pyspark.sql.types import StructType, StructField, StringType, IntegerType, FloatType, ArrayType, MapType\n",
    "\n",
    "logging.basicConfig(level=logging.INFO, format='%(asctime)s - %(message)s - %(name)s', datefmt='%d-%b-%y %H:%M:%S')\n",
    "print(re.__version__)\n",
    "\n",
    "def initial_session():\n",
    "    spark = SparkSession.builder.appName(\"Customers\").getOrCreate()\n",
    "    return spark\n",
    "def get_customers_data():\n",
    " \n",
    "    request=re.get(\"http://localhost:8000/api/v1/customer\")\n",
    "    response=request.json()\n",
    "    return response\n",
    "\n",
    "def main():\n",
    "    spark=initial_session()\n",
    "    data=get_customers_data()\n",
    "    data=json.dumps(data).format(\"utf-8\")\n",
    "    schema=StructType([\n",
    "        StructField(\"customer_id\",StringType(),True),\n",
    "        StructField(\"account_history\",ArrayType(StringType()),True),\n",
    "        StructField(\"demographics\",MapType(StringType(),StringType()),True),\n",
    "        StructField(\"behavioral_patterns\",MapType(StringType(),FloatType()),True)\n",
    "    ])\n",
    "    \n",
    "    df=spark.read.schema(schema).json(data).option(\"multiline\",\"true\")\n",
    "    df.printSchema()\n",
    "    df.show()\n",
    "if __name__==\"__main__\":\n",
    " main()        \n"
   ]
  },
  {
   "cell_type": "code",
   "execution_count": 21,
   "metadata": {},
   "outputs": [
    {
     "name": "stderr",
     "output_type": "stream",
     "text": [
      "/tmp/ipykernel_54783/3656885996.py:6: FutureWarning: Passing literal json to 'read_json' is deprecated and will be removed in a future version. To read from a literal string, wrap it in a 'StringIO' object.\n",
      "  df=pd.read_json(data)\n"
     ]
    },
    {
     "ename": "TypeError",
     "evalue": "unhashable type: 'list'",
     "output_type": "error",
     "traceback": [
      "\u001b[31m---------------------------------------------------------------------------\u001b[39m",
      "\u001b[31mTypeError\u001b[39m                                 Traceback (most recent call last)",
      "\u001b[36mCell\u001b[39m\u001b[36m \u001b[39m\u001b[32mIn[21]\u001b[39m\u001b[32m, line 7\u001b[39m\n\u001b[32m      5\u001b[39m data=json.dumps(response)\n\u001b[32m      6\u001b[39m df=pd.read_json(data)\n\u001b[32m----> \u001b[39m\u001b[32m7\u001b[39m \u001b[43mdf\u001b[49m\u001b[43m.\u001b[49m\u001b[43mvalue_counts\u001b[49m\u001b[43m(\u001b[49m\u001b[43m)\u001b[49m\n",
      "\u001b[36mFile \u001b[39m\u001b[32m~/sys_fraud/sys_detection_frauds/lib/python3.12/site-packages/pandas/core/frame.py:7264\u001b[39m, in \u001b[36mDataFrame.value_counts\u001b[39m\u001b[34m(self, subset, normalize, sort, ascending, dropna)\u001b[39m\n\u001b[32m   7261\u001b[39m     subset = \u001b[38;5;28mself\u001b[39m.columns.tolist()\n\u001b[32m   7263\u001b[39m name = \u001b[33m\"\u001b[39m\u001b[33mproportion\u001b[39m\u001b[33m\"\u001b[39m \u001b[38;5;28;01mif\u001b[39;00m normalize \u001b[38;5;28;01melse\u001b[39;00m \u001b[33m\"\u001b[39m\u001b[33mcount\u001b[39m\u001b[33m\"\u001b[39m\n\u001b[32m-> \u001b[39m\u001b[32m7264\u001b[39m counts = \u001b[38;5;28;43mself\u001b[39;49m\u001b[43m.\u001b[49m\u001b[43mgroupby\u001b[49m\u001b[43m(\u001b[49m\u001b[43msubset\u001b[49m\u001b[43m,\u001b[49m\u001b[43m \u001b[49m\u001b[43mdropna\u001b[49m\u001b[43m=\u001b[49m\u001b[43mdropna\u001b[49m\u001b[43m,\u001b[49m\u001b[43m \u001b[49m\u001b[43mobserved\u001b[49m\u001b[43m=\u001b[49m\u001b[38;5;28;43;01mFalse\u001b[39;49;00m\u001b[43m)\u001b[49m\u001b[43m.\u001b[49m\u001b[43mgrouper\u001b[49m\u001b[43m.\u001b[49m\u001b[43msize\u001b[49m\u001b[43m(\u001b[49m\u001b[43m)\u001b[49m\n\u001b[32m   7265\u001b[39m counts.name = name\n\u001b[32m   7267\u001b[39m \u001b[38;5;28;01mif\u001b[39;00m sort:\n",
      "\u001b[36mFile \u001b[39m\u001b[32m~/sys_fraud/sys_detection_frauds/lib/python3.12/site-packages/pandas/core/groupby/ops.py:690\u001b[39m, in \u001b[36mBaseGrouper.size\u001b[39m\u001b[34m(self)\u001b[39m\n\u001b[32m    685\u001b[39m \u001b[38;5;129m@final\u001b[39m\n\u001b[32m    686\u001b[39m \u001b[38;5;28;01mdef\u001b[39;00m\u001b[38;5;250m \u001b[39m\u001b[34msize\u001b[39m(\u001b[38;5;28mself\u001b[39m) -> Series:\n\u001b[32m    687\u001b[39m \u001b[38;5;250m    \u001b[39m\u001b[33;03m\"\"\"\u001b[39;00m\n\u001b[32m    688\u001b[39m \u001b[33;03m    Compute group sizes.\u001b[39;00m\n\u001b[32m    689\u001b[39m \u001b[33;03m    \"\"\"\u001b[39;00m\n\u001b[32m--> \u001b[39m\u001b[32m690\u001b[39m     ids, _, ngroups = \u001b[38;5;28;43mself\u001b[39;49m\u001b[43m.\u001b[49m\u001b[43mgroup_info\u001b[49m\n\u001b[32m    691\u001b[39m     out: np.ndarray | \u001b[38;5;28mlist\u001b[39m\n\u001b[32m    692\u001b[39m     \u001b[38;5;28;01mif\u001b[39;00m ngroups:\n",
      "\u001b[36mFile \u001b[39m\u001b[32mproperties.pyx:36\u001b[39m, in \u001b[36mpandas._libs.properties.CachedProperty.__get__\u001b[39m\u001b[34m()\u001b[39m\n",
      "\u001b[36mFile \u001b[39m\u001b[32m~/sys_fraud/sys_detection_frauds/lib/python3.12/site-packages/pandas/core/groupby/ops.py:730\u001b[39m, in \u001b[36mBaseGrouper.group_info\u001b[39m\u001b[34m(self)\u001b[39m\n\u001b[32m    728\u001b[39m \u001b[38;5;129m@cache_readonly\u001b[39m\n\u001b[32m    729\u001b[39m \u001b[38;5;28;01mdef\u001b[39;00m\u001b[38;5;250m \u001b[39m\u001b[34mgroup_info\u001b[39m(\u001b[38;5;28mself\u001b[39m) -> \u001b[38;5;28mtuple\u001b[39m[npt.NDArray[np.intp], npt.NDArray[np.intp], \u001b[38;5;28mint\u001b[39m]:\n\u001b[32m--> \u001b[39m\u001b[32m730\u001b[39m     comp_ids, obs_group_ids = \u001b[38;5;28;43mself\u001b[39;49m\u001b[43m.\u001b[49m\u001b[43m_get_compressed_codes\u001b[49m\u001b[43m(\u001b[49m\u001b[43m)\u001b[49m\n\u001b[32m    732\u001b[39m     ngroups = \u001b[38;5;28mlen\u001b[39m(obs_group_ids)\n\u001b[32m    733\u001b[39m     comp_ids = ensure_platform_int(comp_ids)\n",
      "\u001b[36mFile \u001b[39m\u001b[32m~/sys_fraud/sys_detection_frauds/lib/python3.12/site-packages/pandas/core/groupby/ops.py:749\u001b[39m, in \u001b[36mBaseGrouper._get_compressed_codes\u001b[39m\u001b[34m(self)\u001b[39m\n\u001b[32m    743\u001b[39m \u001b[38;5;129m@final\u001b[39m\n\u001b[32m    744\u001b[39m \u001b[38;5;28;01mdef\u001b[39;00m\u001b[38;5;250m \u001b[39m\u001b[34m_get_compressed_codes\u001b[39m(\n\u001b[32m    745\u001b[39m     \u001b[38;5;28mself\u001b[39m,\n\u001b[32m    746\u001b[39m ) -> \u001b[38;5;28mtuple\u001b[39m[npt.NDArray[np.signedinteger], npt.NDArray[np.intp]]:\n\u001b[32m    747\u001b[39m     \u001b[38;5;66;03m# The first returned ndarray may have any signed integer dtype\u001b[39;00m\n\u001b[32m    748\u001b[39m     \u001b[38;5;28;01mif\u001b[39;00m \u001b[38;5;28mlen\u001b[39m(\u001b[38;5;28mself\u001b[39m.groupings) > \u001b[32m1\u001b[39m:\n\u001b[32m--> \u001b[39m\u001b[32m749\u001b[39m         group_index = get_group_index(\u001b[38;5;28;43mself\u001b[39;49m\u001b[43m.\u001b[49m\u001b[43mcodes\u001b[49m, \u001b[38;5;28mself\u001b[39m.shape, sort=\u001b[38;5;28;01mTrue\u001b[39;00m, xnull=\u001b[38;5;28;01mTrue\u001b[39;00m)\n\u001b[32m    750\u001b[39m         \u001b[38;5;28;01mreturn\u001b[39;00m compress_group_index(group_index, sort=\u001b[38;5;28mself\u001b[39m._sort)\n\u001b[32m    751\u001b[39m         \u001b[38;5;66;03m# FIXME: compress_group_index's second return value is int64, not intp\u001b[39;00m\n",
      "\u001b[36mFile \u001b[39m\u001b[32m~/sys_fraud/sys_detection_frauds/lib/python3.12/site-packages/pandas/core/groupby/ops.py:675\u001b[39m, in \u001b[36mBaseGrouper.codes\u001b[39m\u001b[34m(self)\u001b[39m\n\u001b[32m    672\u001b[39m \u001b[38;5;129m@final\u001b[39m\n\u001b[32m    673\u001b[39m \u001b[38;5;129m@property\u001b[39m\n\u001b[32m    674\u001b[39m \u001b[38;5;28;01mdef\u001b[39;00m\u001b[38;5;250m \u001b[39m\u001b[34mcodes\u001b[39m(\u001b[38;5;28mself\u001b[39m) -> \u001b[38;5;28mlist\u001b[39m[npt.NDArray[np.signedinteger]]:\n\u001b[32m--> \u001b[39m\u001b[32m675\u001b[39m     \u001b[38;5;28;01mreturn\u001b[39;00m [\u001b[43mping\u001b[49m\u001b[43m.\u001b[49m\u001b[43mcodes\u001b[49m \u001b[38;5;28;01mfor\u001b[39;00m ping \u001b[38;5;129;01min\u001b[39;00m \u001b[38;5;28mself\u001b[39m.groupings]\n",
      "\u001b[36mFile \u001b[39m\u001b[32m~/sys_fraud/sys_detection_frauds/lib/python3.12/site-packages/pandas/core/groupby/grouper.py:691\u001b[39m, in \u001b[36mGrouping.codes\u001b[39m\u001b[34m(self)\u001b[39m\n\u001b[32m    689\u001b[39m \u001b[38;5;129m@property\u001b[39m\n\u001b[32m    690\u001b[39m \u001b[38;5;28;01mdef\u001b[39;00m\u001b[38;5;250m \u001b[39m\u001b[34mcodes\u001b[39m(\u001b[38;5;28mself\u001b[39m) -> npt.NDArray[np.signedinteger]:\n\u001b[32m--> \u001b[39m\u001b[32m691\u001b[39m     \u001b[38;5;28;01mreturn\u001b[39;00m \u001b[38;5;28;43mself\u001b[39;49m\u001b[43m.\u001b[49m\u001b[43m_codes_and_uniques\u001b[49m[\u001b[32m0\u001b[39m]\n",
      "\u001b[36mFile \u001b[39m\u001b[32mproperties.pyx:36\u001b[39m, in \u001b[36mpandas._libs.properties.CachedProperty.__get__\u001b[39m\u001b[34m()\u001b[39m\n",
      "\u001b[36mFile \u001b[39m\u001b[32m~/sys_fraud/sys_detection_frauds/lib/python3.12/site-packages/pandas/core/groupby/grouper.py:801\u001b[39m, in \u001b[36mGrouping._codes_and_uniques\u001b[39m\u001b[34m(self)\u001b[39m\n\u001b[32m    796\u001b[39m     uniques = \u001b[38;5;28mself\u001b[39m._uniques\n\u001b[32m    797\u001b[39m \u001b[38;5;28;01melse\u001b[39;00m:\n\u001b[32m    798\u001b[39m     \u001b[38;5;66;03m# GH35667, replace dropna=False with use_na_sentinel=False\u001b[39;00m\n\u001b[32m    799\u001b[39m     \u001b[38;5;66;03m# error: Incompatible types in assignment (expression has type \"Union[\u001b[39;00m\n\u001b[32m    800\u001b[39m     \u001b[38;5;66;03m# ndarray[Any, Any], Index]\", variable has type \"Categorical\")\u001b[39;00m\n\u001b[32m--> \u001b[39m\u001b[32m801\u001b[39m     codes, uniques = \u001b[43malgorithms\u001b[49m\u001b[43m.\u001b[49m\u001b[43mfactorize\u001b[49m\u001b[43m(\u001b[49m\u001b[43m  \u001b[49m\u001b[38;5;66;43;03m# type: ignore[assignment]\u001b[39;49;00m\n\u001b[32m    802\u001b[39m \u001b[43m        \u001b[49m\u001b[38;5;28;43mself\u001b[39;49m\u001b[43m.\u001b[49m\u001b[43mgrouping_vector\u001b[49m\u001b[43m,\u001b[49m\u001b[43m \u001b[49m\u001b[43msort\u001b[49m\u001b[43m=\u001b[49m\u001b[38;5;28;43mself\u001b[39;49m\u001b[43m.\u001b[49m\u001b[43m_sort\u001b[49m\u001b[43m,\u001b[49m\u001b[43m \u001b[49m\u001b[43muse_na_sentinel\u001b[49m\u001b[43m=\u001b[49m\u001b[38;5;28;43mself\u001b[39;49m\u001b[43m.\u001b[49m\u001b[43m_dropna\u001b[49m\n\u001b[32m    803\u001b[39m \u001b[43m    \u001b[49m\u001b[43m)\u001b[49m\n\u001b[32m    804\u001b[39m \u001b[38;5;28;01mreturn\u001b[39;00m codes, uniques\n",
      "\u001b[36mFile \u001b[39m\u001b[32m~/sys_fraud/sys_detection_frauds/lib/python3.12/site-packages/pandas/core/algorithms.py:795\u001b[39m, in \u001b[36mfactorize\u001b[39m\u001b[34m(values, sort, use_na_sentinel, size_hint)\u001b[39m\n\u001b[32m    792\u001b[39m             \u001b[38;5;66;03m# Don't modify (potentially user-provided) array\u001b[39;00m\n\u001b[32m    793\u001b[39m             values = np.where(null_mask, na_value, values)\n\u001b[32m--> \u001b[39m\u001b[32m795\u001b[39m     codes, uniques = \u001b[43mfactorize_array\u001b[49m\u001b[43m(\u001b[49m\n\u001b[32m    796\u001b[39m \u001b[43m        \u001b[49m\u001b[43mvalues\u001b[49m\u001b[43m,\u001b[49m\n\u001b[32m    797\u001b[39m \u001b[43m        \u001b[49m\u001b[43muse_na_sentinel\u001b[49m\u001b[43m=\u001b[49m\u001b[43muse_na_sentinel\u001b[49m\u001b[43m,\u001b[49m\n\u001b[32m    798\u001b[39m \u001b[43m        \u001b[49m\u001b[43msize_hint\u001b[49m\u001b[43m=\u001b[49m\u001b[43msize_hint\u001b[49m\u001b[43m,\u001b[49m\n\u001b[32m    799\u001b[39m \u001b[43m    \u001b[49m\u001b[43m)\u001b[49m\n\u001b[32m    801\u001b[39m \u001b[38;5;28;01mif\u001b[39;00m sort \u001b[38;5;129;01mand\u001b[39;00m \u001b[38;5;28mlen\u001b[39m(uniques) > \u001b[32m0\u001b[39m:\n\u001b[32m    802\u001b[39m     uniques, codes = safe_sort(\n\u001b[32m    803\u001b[39m         uniques,\n\u001b[32m    804\u001b[39m         codes,\n\u001b[32m   (...)\u001b[39m\u001b[32m    807\u001b[39m         verify=\u001b[38;5;28;01mFalse\u001b[39;00m,\n\u001b[32m    808\u001b[39m     )\n",
      "\u001b[36mFile \u001b[39m\u001b[32m~/sys_fraud/sys_detection_frauds/lib/python3.12/site-packages/pandas/core/algorithms.py:595\u001b[39m, in \u001b[36mfactorize_array\u001b[39m\u001b[34m(values, use_na_sentinel, size_hint, na_value, mask)\u001b[39m\n\u001b[32m    592\u001b[39m hash_klass, values = _get_hashtable_algo(values)\n\u001b[32m    594\u001b[39m table = hash_klass(size_hint \u001b[38;5;129;01mor\u001b[39;00m \u001b[38;5;28mlen\u001b[39m(values))\n\u001b[32m--> \u001b[39m\u001b[32m595\u001b[39m uniques, codes = \u001b[43mtable\u001b[49m\u001b[43m.\u001b[49m\u001b[43mfactorize\u001b[49m\u001b[43m(\u001b[49m\n\u001b[32m    596\u001b[39m \u001b[43m    \u001b[49m\u001b[43mvalues\u001b[49m\u001b[43m,\u001b[49m\n\u001b[32m    597\u001b[39m \u001b[43m    \u001b[49m\u001b[43mna_sentinel\u001b[49m\u001b[43m=\u001b[49m\u001b[43m-\u001b[49m\u001b[32;43m1\u001b[39;49m\u001b[43m,\u001b[49m\n\u001b[32m    598\u001b[39m \u001b[43m    \u001b[49m\u001b[43mna_value\u001b[49m\u001b[43m=\u001b[49m\u001b[43mna_value\u001b[49m\u001b[43m,\u001b[49m\n\u001b[32m    599\u001b[39m \u001b[43m    \u001b[49m\u001b[43mmask\u001b[49m\u001b[43m=\u001b[49m\u001b[43mmask\u001b[49m\u001b[43m,\u001b[49m\n\u001b[32m    600\u001b[39m \u001b[43m    \u001b[49m\u001b[43mignore_na\u001b[49m\u001b[43m=\u001b[49m\u001b[43muse_na_sentinel\u001b[49m\u001b[43m,\u001b[49m\n\u001b[32m    601\u001b[39m \u001b[43m\u001b[49m\u001b[43m)\u001b[49m\n\u001b[32m    603\u001b[39m \u001b[38;5;66;03m# re-cast e.g. i8->dt64/td64, uint8->bool\u001b[39;00m\n\u001b[32m    604\u001b[39m uniques = _reconstruct_data(uniques, original.dtype, original)\n",
      "\u001b[36mFile \u001b[39m\u001b[32mpandas/_libs/hashtable_class_helper.pxi:7280\u001b[39m, in \u001b[36mpandas._libs.hashtable.PyObjectHashTable.factorize\u001b[39m\u001b[34m()\u001b[39m\n",
      "\u001b[36mFile \u001b[39m\u001b[32mpandas/_libs/hashtable_class_helper.pxi:7194\u001b[39m, in \u001b[36mpandas._libs.hashtable.PyObjectHashTable._unique\u001b[39m\u001b[34m()\u001b[39m\n",
      "\u001b[31mTypeError\u001b[39m: unhashable type: 'list'"
     ]
    }
   ],
   "source": [
    "import pandas as pd\n",
    "\n",
    "request=re.get(\"http://localhost:8000/api/v1/customer\")\n",
    "response=request.json()\n",
    "data=json.dumps(response)\n",
    "df=pd.read_json(data)\n",
    "df.value_counts()"
   ]
  }
 ],
 "metadata": {
  "colab": {
   "provenance": []
  },
  "kernelspec": {
   "display_name": "sys_detection_frauds",
   "language": "python",
   "name": "python3"
  },
  "language_info": {
   "codemirror_mode": {
    "name": "ipython",
    "version": 3
   },
   "file_extension": ".py",
   "mimetype": "text/x-python",
   "name": "python",
   "nbconvert_exporter": "python",
   "pygments_lexer": "ipython3",
   "version": "3.12.3"
  }
 },
 "nbformat": 4,
 "nbformat_minor": 0
}
